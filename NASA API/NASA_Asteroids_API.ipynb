{
 "cells": [
  {
   "cell_type": "code",
   "execution_count": null,
   "metadata": {},
   "outputs": [],
   "source": [
    "import pandas as pd\n",
    "import numpy as np\n",
    "import matplotlib.pyplot as plt\n",
    "import matplotlib.image as mpimg\n",
    "import requests\n",
    "import urllib, json\n",
    "from PIL import Image\n",
    "import datetime\n",
    "import openpyxl"
   ]
  },
  {
   "cell_type": "code",
   "execution_count": null,
   "metadata": {},
   "outputs": [],
   "source": [
    "# Подключаем api_key из файла\n",
    "f = open('API_KEY.txt', 'r')\n",
    "api_key = f.read()\n",
    "f.close()"
   ]
  },
  {
   "cell_type": "code",
   "execution_count": null,
   "metadata": {},
   "outputs": [],
   "source": [
    "# Составляем URL request\n",
    "api_root = 'https://api.nasa.gov/'\n",
    "api_product = 'neo/rest/v1/feed?'\n",
    "start_date = '2021-01-01'\n",
    "end_date = '2021-01-01'\n",
    "url = f\"{api_root}{api_product}start_date={start_date}&end_date={end_date}&api_key={api_key}\""
   ]
  },
  {
   "cell_type": "code",
   "execution_count": null,
   "metadata": {},
   "outputs": [],
   "source": [
    "'''\n",
    "Функция навигации по данным из api response   \n",
    "возвращает ссылку на данные в другом временном отрезке\n",
    "\n",
    "    step = 'next' -- следующий день от заданного start_date в URL request\n",
    "    step = 'prev' -- предыдущий день от заданного start_date в URL request\n",
    "    step = 'self' -- текущий день, равный start_date в URL request\n",
    "'''\n",
    "\n",
    "def get_url(url, step):\n",
    "    url_level = urllib.request.urlopen(url)\n",
    "    data_level = json.loads(url_level.read())['links']\n",
    "    if step == 'next':\n",
    "        return data_level[step]\n",
    "    elif step == 'prev':\n",
    "        return data_level[step]\n",
    "    elif step == 'self':\n",
    "        return data_level[step]"
   ]
  },
  {
   "cell_type": "code",
   "execution_count": null,
   "metadata": {},
   "outputs": [],
   "source": [
    "'''\n",
    "Вариант использования бибилотеки datetime для скольжения по датам (не используется в коде)\n",
    "и вывод даты в строку\n",
    "\n",
    "delta = datetime.timedelta(days=1)\n",
    "day_current = datetime.date.fromisoformat(start_date) + delta\n",
    "date_str = datetime.date.strftime(day_current, '%Y-%m-%d')\n",
    "'''"
   ]
  },
  {
   "cell_type": "code",
   "execution_count": null,
   "metadata": {},
   "outputs": [],
   "source": [
    "'''Навигация по ссылкам.\n",
    "\n",
    "Работаем с данными за один день 2020-07-07.\n",
    "Обрабатываем входящий json.\n",
    "'''\n",
    "\n",
    "url_level_0 = urllib.request.urlopen(url)\n",
    "data_level_0 = pd.DataFrame.from_dict(json.loads(url_level_0.read()))\n",
    "data_level_0"
   ]
  },
  {
   "cell_type": "code",
   "execution_count": null,
   "metadata": {},
   "outputs": [],
   "source": [
    "# Выбираем один элемент из списка за один день\n",
    "data_day = data_level_0.near_earth_objects[3]\n",
    "data_day_item = data_day[0]\n",
    "data_day_item"
   ]
  },
  {
   "cell_type": "code",
   "execution_count": null,
   "metadata": {},
   "outputs": [],
   "source": [
    "# Создаем словари с необходимями данными для DataFrame\n",
    "dict_estimated_diameter = data_day_item['estimated_diameter']['kilometers']\n",
    "dict_close_approach_data = data_day_item['close_approach_data'][0]\n",
    "dict_relative_velocity = dict_close_approach_data['relative_velocity']\n",
    "dict_miss_distance = dict_close_approach_data['miss_distance']"
   ]
  },
  {
   "cell_type": "code",
   "execution_count": null,
   "metadata": {},
   "outputs": [],
   "source": [
    "# Чистим словарь от вложенных словарей\n",
    "keys = ['links','estimated_diameter','close_approach_data', 'relative_velocity', 'miss_distance']\n",
    "\n",
    "for key in keys:\n",
    "    data_day_item.pop(key, None)\n",
    "data_day_item_short = data_day_item\n",
    "\n",
    "data_day_item_short"
   ]
  },
  {
   "cell_type": "code",
   "execution_count": null,
   "metadata": {},
   "outputs": [],
   "source": [
    "'''Создаем DataFrame для выбранных данных.\n",
    "\n",
    "Объединяем DataFrame в один для дальнейшей работы.\n",
    "'''\n",
    "\n",
    "df1 = pd.DataFrame([data_day_item_short])\n",
    "df2 = pd.DataFrame(dict_estimated_diameter, index=[0]).reset_index(drop=True)\n",
    "df3 = pd.DataFrame(dict_close_approach_data, index=[0]).reset_index(drop=True)\n",
    "df4 = pd.DataFrame(dict_relative_velocity, index=[0]).reset_index(drop=True)\n",
    "df5 = pd.DataFrame(dict_miss_distance, index=[0]).reset_index(drop=True)\n",
    "df_item = df1.join(df2).join(df3).join(df4).join(df5)\n",
    "\n",
    "df_item"
   ]
  },
  {
   "cell_type": "code",
   "execution_count": null,
   "metadata": {},
   "outputs": [],
   "source": [
    "# Чистим DataFrame от нерелевантных данных, переименовываем\n",
    "df_item = df1.join(df2).join(df3).join(df4).join(df5).drop(['nasa_jpl_url',\n",
    "                                                'neo_reference_id',\n",
    "                                                'miss_distance',\n",
    "                                                'miles_per_hour',\n",
    "                                                'astronomical',\n",
    "                                                'lunar',\n",
    "                                                'miles'\n",
    "                                                ], axis=1\n",
    ").rename(columns={'kilometers': 'miss_distance_kilometers',\n",
    "                'estimated_diameter_min': 'estimated_diameter_km_min',\n",
    "                'estimated_diameter_max': 'estimated_diameter_km_max'})\n",
    "\n",
    "# Создаем словарь из DataFrame\n",
    "df_item.to_dict()"
   ]
  },
  {
   "attachments": {},
   "cell_type": "markdown",
   "metadata": {},
   "source": [
    "**Создаем цикл для работы с API с получением данных за определенное количество дней**"
   ]
  },
  {
   "cell_type": "code",
   "execution_count": null,
   "metadata": {},
   "outputs": [],
   "source": [
    "'''Структуры для работы.\n",
    "\n",
    "items_list - список из данных по каждому объекту за определенный период\n",
    "missed_colums_keys = [] - список для обработки словаря по одному объекту (удаление столбцов)\n",
    "'''\n",
    "items_list = []\n",
    "missed_colums_keys = [\n",
    "    'links','estimated_diameter',\n",
    "    'close_approach_data',\n",
    "    'relative_velocity',\n",
    "    'miss_distance'\n",
    "    ]"
   ]
  },
  {
   "cell_type": "code",
   "execution_count": null,
   "metadata": {},
   "outputs": [],
   "source": [
    "'''Создание списка заголовков\n",
    "\n",
    "для требуемого пустого DataFrame\n",
    "из DataFrame за один день\n",
    "'''\n",
    "key_list = list(df_item.to_dict())\n",
    "key_list.remove('epoch_date_close_approach')\n",
    "key_list.remove('relative_velocity')\n",
    "key_list"
   ]
  },
  {
   "cell_type": "code",
   "execution_count": null,
   "metadata": {},
   "outputs": [],
   "source": [
    "# Создаем пустой DataFrame\n",
    "df0 = pd.DataFrame(columns=key_list)\n",
    "\n",
    "df0"
   ]
  },
  {
   "cell_type": "code",
   "execution_count": null,
   "metadata": {},
   "outputs": [],
   "source": [
    "# n - количество запросов(дней)\n",
    "n = 365"
   ]
  },
  {
   "cell_type": "code",
   "execution_count": null,
   "metadata": {},
   "outputs": [],
   "source": [
    "''' Создаем цикл для получения данных\n",
    "\n",
    "через API за заданный период времени\n",
    "на основе алгоритма получения данных\n",
    "за один день\n",
    "'''\n",
    "\n",
    "\n",
    "for i in range(1, n+1):\n",
    "    current = get_url(url, 'next')\n",
    "    url = current\n",
    "    \n",
    "    # Навигация по ссылкам, работаем с данными за один день\n",
    "    url_level_0 = urllib.request.urlopen(url)\n",
    "    data_level_0 = pd.DataFrame.from_dict(json.loads(url_level_0.read()))\n",
    "    \n",
    "    # Cписок элементов за один день\n",
    "    data_in_day = data_level_0.near_earth_objects[3]\n",
    "\n",
    "    # Цикл по элементам списка за один день\n",
    "    for data_day_item in data_in_day:\n",
    "        dict_estimated_diameter = data_day_item['estimated_diameter']['kilometers']\n",
    "        dict_close_approach_data = data_day_item['close_approach_data'][0]\n",
    "        dict_relative_velocity = dict_close_approach_data['relative_velocity']\n",
    "        dict_miss_distance = dict_close_approach_data['miss_distance']\n",
    "\n",
    "        # Чистим словарь от вложенных словарей\n",
    "        for key in missed_colums_keys:\n",
    "            data_day_item.pop(key, None)\n",
    "\n",
    "        data_day_item_short = data_day_item\n",
    "        \n",
    "        # Создаем Dataframe из вложенных словарей\n",
    "        df1 = pd.DataFrame([data_day_item_short])\n",
    "        df2 = pd.DataFrame(dict_estimated_diameter, index=[0]).reset_index(drop=True)\n",
    "        df3 = pd.DataFrame(dict_close_approach_data, index=[0]).reset_index(drop=True)\n",
    "        df4 = pd.DataFrame(dict_relative_velocity, index=[0]).reset_index(drop=True)\n",
    "        df5 = pd.DataFrame(dict_miss_distance, index=[0]).reset_index(drop=True)\n",
    "        \n",
    "        # Чистим DataFrame от нерелевантных данных, переименовываем\n",
    "        df_item = df1.join(df2).join(df3).join(df4).join(df5).drop(['nasa_jpl_url',\n",
    "                                                        'neo_reference_id',\n",
    "                                                        'miss_distance',\n",
    "                                                        'miles_per_hour',\n",
    "                                                        'astronomical',\n",
    "                                                        'lunar',\n",
    "                                                        'miles',\n",
    "                                                        'epoch_date_close_approach',\n",
    "                                                        'relative_velocity'\n",
    "                                                        ], axis=1\n",
    "        ).rename(columns={'kilometers': 'miss_distance_kilometers',\n",
    "                        'estimated_diameter_min': 'estimated_diameter_km_min',\n",
    "                        'estimated_diameter_max': 'estimated_diameter_km_max'})\n",
    "        \n",
    "\n",
    "        # Добавление в итоговый DataFrame данных построчно\n",
    "        df0 = pd.concat([df0, df_item])"
   ]
  },
  {
   "cell_type": "code",
   "execution_count": null,
   "metadata": {},
   "outputs": [],
   "source": [
    "df0.dtypes"
   ]
  },
  {
   "cell_type": "code",
   "execution_count": null,
   "metadata": {},
   "outputs": [],
   "source": [
    "# Меняем тип данных, округляем float\n",
    "df0['id'] = df0['id'].astype(float).astype(int)\n",
    "df0['is_potentially_hazardous_asteroid'] = (df0['is_potentially_hazardous_asteroid']*1).astype(int)\n",
    "df0['is_sentry_object'] = (df0['is_sentry_object']*1).astype(int)\n",
    "df0['absolute_magnitude_h'] = df0['absolute_magnitude_h'].astype('float64').round(2)\n",
    "df0['kilometers_per_second'] = df0['kilometers_per_second'].astype('float64').round(3)\n",
    "df0['estimated_diameter_km_min'] = df0['estimated_diameter_km_min'].astype('float32').round(3)\n",
    "df0['estimated_diameter_km_max'] = df0['estimated_diameter_km_max'].astype('float32').round(3)\n",
    "df0['close_approach_date'] = pd.to_datetime(df0['close_approach_date'])\n",
    "df0['close_approach_date_full'] = pd.to_datetime(df0['close_approach_date_full'])\n",
    "df0['kilometers_per_hour'] = df0['kilometers_per_hour'].astype(float).astype(int)\n",
    "df0['miss_distance_kilometers'] = df0['miss_distance_kilometers'].astype(float).astype(int)\n",
    "df0.dtypes"
   ]
  },
  {
   "cell_type": "code",
   "execution_count": null,
   "metadata": {},
   "outputs": [],
   "source": [
    "df0"
   ]
  },
  {
   "cell_type": "code",
   "execution_count": null,
   "metadata": {},
   "outputs": [],
   "source": [
    "#df_from_xlsx = pd.read_excel(\"NASA_Asteroids_2022.xlsx\",header=0)\n",
    "#df_sum = pd.concat([df_from_xlsx, df0])\n",
    "#df0.to_excel(\"NASA_Asteroids_2021.xlsx\",\n",
    "#             sheet_name='Sheet_1')"
   ]
  },
  {
   "cell_type": "code",
   "execution_count": null,
   "metadata": {},
   "outputs": [],
   "source": [
    "#aaa = df_from_xlsx.drop(['Unnamed: 0'], axis=1)\n",
    "#aaa"
   ]
  },
  {
   "cell_type": "code",
   "execution_count": null,
   "metadata": {},
   "outputs": [],
   "source": [
    "#df0.dtypes"
   ]
  },
  {
   "cell_type": "code",
   "execution_count": null,
   "metadata": {},
   "outputs": [],
   "source": [
    "#df0.to_csv('NASA_Asteroids_2022.csv')"
   ]
  }
 ],
 "metadata": {
  "kernelspec": {
   "display_name": "Python 3",
   "language": "python",
   "name": "python3"
  },
  "language_info": {
   "codemirror_mode": {
    "name": "ipython",
    "version": 3
   },
   "file_extension": ".py",
   "mimetype": "text/x-python",
   "name": "python",
   "nbconvert_exporter": "python",
   "pygments_lexer": "ipython3",
   "version": "3.11.3"
  },
  "orig_nbformat": 4
 },
 "nbformat": 4,
 "nbformat_minor": 2
}
