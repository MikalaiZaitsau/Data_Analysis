{
 "cells": [
  {
   "cell_type": "code",
   "execution_count": 32,
   "metadata": {},
   "outputs": [],
   "source": [
    "import pandas as pd\n",
    "import numpy as np\n",
    "import matplotlib.pyplot as plt\n",
    "import matplotlib.image as mpimg\n",
    "import requests\n",
    "import urllib, json\n",
    "import MartianWeather as mw\n",
    "from PIL import Image\n",
    "import datetime"
   ]
  },
  {
   "cell_type": "code",
   "execution_count": 33,
   "metadata": {},
   "outputs": [],
   "source": [
    "f = open('API_KEY.txt', 'r')\n",
    "api_key = f.read()\n",
    "f.close()"
   ]
  },
  {
   "attachments": {},
   "cell_type": "markdown",
   "metadata": {},
   "source": [
    "\n",
    "\n",
    "GET https://api.nasa.gov/neo/rest/v1/feed?start_date=START_DATE&end_date=END_DATE&api_key=API_KEY"
   ]
  },
  {
   "cell_type": "code",
   "execution_count": 34,
   "metadata": {},
   "outputs": [],
   "source": [
    "#def get_url():\n",
    "#    url_level_0 = urllib.request.urlopen(url)\n",
    "#    data_level_0 = pd.DataFrame.from_dict(json.loads(url_level_0.read()))\n",
    "#    return "
   ]
  },
  {
   "cell_type": "code",
   "execution_count": 35,
   "metadata": {},
   "outputs": [],
   "source": [
    "# Define API key\n",
    "api_root = 'https://api.nasa.gov/'\n",
    "api_product = 'neo/rest/v1/feed?'\n",
    "start_date = '2020-07-07'\n",
    "end_date = '2020-07-07'\n",
    "url = f\"{api_root}{api_product}start_date={start_date}&end_date={end_date}&api_key={api_key}\""
   ]
  },
  {
   "cell_type": "code",
   "execution_count": 36,
   "metadata": {},
   "outputs": [
    {
     "data": {
      "text/html": [
       "<div>\n",
       "<style scoped>\n",
       "    .dataframe tbody tr th:only-of-type {\n",
       "        vertical-align: middle;\n",
       "    }\n",
       "\n",
       "    .dataframe tbody tr th {\n",
       "        vertical-align: top;\n",
       "    }\n",
       "\n",
       "    .dataframe thead th {\n",
       "        text-align: right;\n",
       "    }\n",
       "</style>\n",
       "<table border=\"1\" class=\"dataframe\">\n",
       "  <thead>\n",
       "    <tr style=\"text-align: right;\">\n",
       "      <th></th>\n",
       "      <th>links</th>\n",
       "      <th>element_count</th>\n",
       "      <th>near_earth_objects</th>\n",
       "    </tr>\n",
       "  </thead>\n",
       "  <tbody>\n",
       "    <tr>\n",
       "      <th>next</th>\n",
       "      <td>http://api.nasa.gov/neo/rest/v1/feed?start_dat...</td>\n",
       "      <td>11</td>\n",
       "      <td>NaN</td>\n",
       "    </tr>\n",
       "    <tr>\n",
       "      <th>prev</th>\n",
       "      <td>http://api.nasa.gov/neo/rest/v1/feed?start_dat...</td>\n",
       "      <td>11</td>\n",
       "      <td>NaN</td>\n",
       "    </tr>\n",
       "    <tr>\n",
       "      <th>self</th>\n",
       "      <td>http://api.nasa.gov/neo/rest/v1/feed?start_dat...</td>\n",
       "      <td>11</td>\n",
       "      <td>NaN</td>\n",
       "    </tr>\n",
       "    <tr>\n",
       "      <th>2020-07-07</th>\n",
       "      <td>NaN</td>\n",
       "      <td>11</td>\n",
       "      <td>[{'links': {'self': 'http://api.nasa.gov/neo/r...</td>\n",
       "    </tr>\n",
       "  </tbody>\n",
       "</table>\n",
       "</div>"
      ],
      "text/plain": [
       "                                                        links  element_count   \n",
       "next        http://api.nasa.gov/neo/rest/v1/feed?start_dat...             11  \\\n",
       "prev        http://api.nasa.gov/neo/rest/v1/feed?start_dat...             11   \n",
       "self        http://api.nasa.gov/neo/rest/v1/feed?start_dat...             11   \n",
       "2020-07-07                                                NaN             11   \n",
       "\n",
       "                                           near_earth_objects  \n",
       "next                                                      NaN  \n",
       "prev                                                      NaN  \n",
       "self                                                      NaN  \n",
       "2020-07-07  [{'links': {'self': 'http://api.nasa.gov/neo/r...  "
      ]
     },
     "execution_count": 36,
     "metadata": {},
     "output_type": "execute_result"
    }
   ],
   "source": [
    "url_level_0 = urllib.request.urlopen(url)\n",
    "data_level_0 = pd.DataFrame.from_dict(json.loads(url_level_0.read()))\n",
    "data_level_0"
   ]
  },
  {
   "cell_type": "code",
   "execution_count": 44,
   "metadata": {},
   "outputs": [
    {
     "data": {
      "text/plain": [
       "{'links': {'self': 'http://api.nasa.gov/neo/rest/v1/neo/3343102?api_key=8Mbg6rxSagXNYxrUbC8ynidJUcLn9h4CC7ucuT21'},\n",
       " 'id': '3343102',\n",
       " 'neo_reference_id': '3343102',\n",
       " 'name': '(2006 SS19)',\n",
       " 'nasa_jpl_url': 'http://ssd.jpl.nasa.gov/sbdb.cgi?sstr=3343102',\n",
       " 'absolute_magnitude_h': 18.9,\n",
       " 'estimated_diameter': {'kilometers': {'estimated_diameter_min': 0.4411182,\n",
       "   'estimated_diameter_max': 0.9863702813},\n",
       "  'meters': {'estimated_diameter_min': 441.1181999969,\n",
       "   'estimated_diameter_max': 986.3702813054},\n",
       "  'miles': {'estimated_diameter_min': 0.2740980571,\n",
       "   'estimated_diameter_max': 0.6129018881},\n",
       "  'feet': {'estimated_diameter_min': 1447.2382352778,\n",
       "   'estimated_diameter_max': 3236.1230737181}},\n",
       " 'is_potentially_hazardous_asteroid': False,\n",
       " 'close_approach_data': [{'close_approach_date': '2020-07-07',\n",
       "   'close_approach_date_full': '2020-Jul-07 08:13',\n",
       "   'epoch_date_close_approach': 1594109580000,\n",
       "   'relative_velocity': {'kilometers_per_second': '11.947301649',\n",
       "    'kilometers_per_hour': '43010.285936445',\n",
       "    'miles_per_hour': '26724.9190586761'},\n",
       "   'miss_distance': {'astronomical': '0.4460874678',\n",
       "    'lunar': '173.5280249742',\n",
       "    'kilometers': '66733735.016573586',\n",
       "    'miles': '41466420.1158480468'},\n",
       "   'orbiting_body': 'Earth'}],\n",
       " 'is_sentry_object': False}"
      ]
     },
     "execution_count": 44,
     "metadata": {},
     "output_type": "execute_result"
    }
   ],
   "source": [
    "data_day = data_level_0.near_earth_objects[3]\n",
    "data_day_item = data_day[0]\n",
    "data_day_item"
   ]
  },
  {
   "cell_type": "code",
   "execution_count": 42,
   "metadata": {},
   "outputs": [
    {
     "data": {
      "text/plain": [
       "18.9"
      ]
     },
     "execution_count": 42,
     "metadata": {},
     "output_type": "execute_result"
    }
   ],
   "source": [
    "data_day_item['absolute_magnitude_h']"
   ]
  }
 ],
 "metadata": {
  "kernelspec": {
   "display_name": "Python 3",
   "language": "python",
   "name": "python3"
  },
  "language_info": {
   "codemirror_mode": {
    "name": "ipython",
    "version": 3
   },
   "file_extension": ".py",
   "mimetype": "text/x-python",
   "name": "python",
   "nbconvert_exporter": "python",
   "pygments_lexer": "ipython3",
   "version": "3.11.3"
  },
  "orig_nbformat": 4
 },
 "nbformat": 4,
 "nbformat_minor": 2
}
