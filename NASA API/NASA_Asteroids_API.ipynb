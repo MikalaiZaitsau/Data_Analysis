{
 "cells": [
  {
   "cell_type": "code",
   "execution_count": 58,
   "metadata": {},
   "outputs": [],
   "source": [
    "import pandas as pd\n",
    "import numpy as np\n",
    "import matplotlib.pyplot as plt\n",
    "import matplotlib.image as mpimg\n",
    "import requests\n",
    "import urllib, json\n",
    "from PIL import Image\n",
    "import datetime"
   ]
  },
  {
   "cell_type": "code",
   "execution_count": 59,
   "metadata": {},
   "outputs": [],
   "source": [
    "# Подключаем api_key из файла\n",
    "f = open('API_KEY.txt', 'r')\n",
    "api_key = f.read()\n",
    "f.close()"
   ]
  },
  {
   "cell_type": "code",
   "execution_count": 60,
   "metadata": {},
   "outputs": [],
   "source": [
    "# Составляем URL request\n",
    "api_root = 'https://api.nasa.gov/'\n",
    "api_product = 'neo/rest/v1/feed?'\n",
    "start_date = '2020-07-07'\n",
    "end_date = '2020-07-27'\n",
    "url = f\"{api_root}{api_product}start_date={start_date}&end_date={end_date}&api_key={api_key}\""
   ]
  },
  {
   "cell_type": "code",
   "execution_count": 61,
   "metadata": {},
   "outputs": [],
   "source": [
    "'''\n",
    "    Функция навигации по данным из api response\n",
    "    возвращает ссылку на данные в другом временном отрезке\n",
    "\n",
    "    step = 'next' -- следующий день от заданного start_date в URL request\n",
    "    step = 'prev' -- предыдущий день от заданного start_date в URL request\n",
    "    step = 'self' -- текущий день, равный start_date в URL request\n",
    "'''\n",
    "\n",
    "def get_url(url, step):\n",
    "    url_level = urllib.request.urlopen(url)\n",
    "    data_level = json.loads(url_level.read())['links']\n",
    "    if step == 'next':\n",
    "        return data_level[step]\n",
    "    elif step == 'prev':\n",
    "        return data_level[step]\n",
    "    elif step == 'self':\n",
    "        return data_level[step]"
   ]
  },
  {
   "cell_type": "code",
   "execution_count": 62,
   "metadata": {},
   "outputs": [],
   "source": [
    "delta = datetime.timedelta(days=1)\n",
    "day_current = datetime.date.fromisoformat(start_date)\n",
    "date_str = datetime.date.strftime(a, '%Y-%m-%d')"
   ]
  },
  {
   "cell_type": "code",
   "execution_count": 63,
   "metadata": {},
   "outputs": [],
   "source": [
    "# Делаем список URL-запросов из 100 дней\n",
    "#for i in range(1, 101):\n",
    "#    day_current += delta\n",
    "#    url_current = f\"{api_root}{api_product}start_date={day_current}&end_date={end_date}&api_key={api_key}\"\n",
    "#    print(url_current)\n"
   ]
  },
  {
   "cell_type": "code",
   "execution_count": 64,
   "metadata": {},
   "outputs": [
    {
     "ename": "HTTPError",
     "evalue": "HTTP Error 400: Bad Request",
     "output_type": "error",
     "traceback": [
      "\u001b[1;31m---------------------------------------------------------------------------\u001b[0m",
      "\u001b[1;31mHTTPError\u001b[0m                                 Traceback (most recent call last)",
      "Cell \u001b[1;32mIn[64], line 3\u001b[0m\n\u001b[0;32m      1\u001b[0m \u001b[39m# Навигация по ссылкам\u001b[39;00m\n\u001b[0;32m      2\u001b[0m \u001b[39m# Работаем с данными за один день 2020-07-07\u001b[39;00m\n\u001b[1;32m----> 3\u001b[0m url_level_0 \u001b[39m=\u001b[39m urllib\u001b[39m.\u001b[39;49mrequest\u001b[39m.\u001b[39;49murlopen(url)\n\u001b[0;32m      4\u001b[0m data_level_0 \u001b[39m=\u001b[39m pd\u001b[39m.\u001b[39mDataFrame\u001b[39m.\u001b[39mfrom_dict(json\u001b[39m.\u001b[39mloads(url_level_0\u001b[39m.\u001b[39mread()))\n\u001b[0;32m      5\u001b[0m data_level_0\n",
      "File \u001b[1;32mc:\\Users\\nikolay.zaytsev\\AppData\\Local\\Programs\\Python\\Python311\\Lib\\urllib\\request.py:216\u001b[0m, in \u001b[0;36murlopen\u001b[1;34m(url, data, timeout, cafile, capath, cadefault, context)\u001b[0m\n\u001b[0;32m    214\u001b[0m \u001b[39melse\u001b[39;00m:\n\u001b[0;32m    215\u001b[0m     opener \u001b[39m=\u001b[39m _opener\n\u001b[1;32m--> 216\u001b[0m \u001b[39mreturn\u001b[39;00m opener\u001b[39m.\u001b[39;49mopen(url, data, timeout)\n",
      "File \u001b[1;32mc:\\Users\\nikolay.zaytsev\\AppData\\Local\\Programs\\Python\\Python311\\Lib\\urllib\\request.py:525\u001b[0m, in \u001b[0;36mOpenerDirector.open\u001b[1;34m(self, fullurl, data, timeout)\u001b[0m\n\u001b[0;32m    523\u001b[0m \u001b[39mfor\u001b[39;00m processor \u001b[39min\u001b[39;00m \u001b[39mself\u001b[39m\u001b[39m.\u001b[39mprocess_response\u001b[39m.\u001b[39mget(protocol, []):\n\u001b[0;32m    524\u001b[0m     meth \u001b[39m=\u001b[39m \u001b[39mgetattr\u001b[39m(processor, meth_name)\n\u001b[1;32m--> 525\u001b[0m     response \u001b[39m=\u001b[39m meth(req, response)\n\u001b[0;32m    527\u001b[0m \u001b[39mreturn\u001b[39;00m response\n",
      "File \u001b[1;32mc:\\Users\\nikolay.zaytsev\\AppData\\Local\\Programs\\Python\\Python311\\Lib\\urllib\\request.py:634\u001b[0m, in \u001b[0;36mHTTPErrorProcessor.http_response\u001b[1;34m(self, request, response)\u001b[0m\n\u001b[0;32m    631\u001b[0m \u001b[39m# According to RFC 2616, \"2xx\" code indicates that the client's\u001b[39;00m\n\u001b[0;32m    632\u001b[0m \u001b[39m# request was successfully received, understood, and accepted.\u001b[39;00m\n\u001b[0;32m    633\u001b[0m \u001b[39mif\u001b[39;00m \u001b[39mnot\u001b[39;00m (\u001b[39m200\u001b[39m \u001b[39m<\u001b[39m\u001b[39m=\u001b[39m code \u001b[39m<\u001b[39m \u001b[39m300\u001b[39m):\n\u001b[1;32m--> 634\u001b[0m     response \u001b[39m=\u001b[39m \u001b[39mself\u001b[39;49m\u001b[39m.\u001b[39;49mparent\u001b[39m.\u001b[39;49merror(\n\u001b[0;32m    635\u001b[0m         \u001b[39m'\u001b[39;49m\u001b[39mhttp\u001b[39;49m\u001b[39m'\u001b[39;49m, request, response, code, msg, hdrs)\n\u001b[0;32m    637\u001b[0m \u001b[39mreturn\u001b[39;00m response\n",
      "File \u001b[1;32mc:\\Users\\nikolay.zaytsev\\AppData\\Local\\Programs\\Python\\Python311\\Lib\\urllib\\request.py:563\u001b[0m, in \u001b[0;36mOpenerDirector.error\u001b[1;34m(self, proto, *args)\u001b[0m\n\u001b[0;32m    561\u001b[0m \u001b[39mif\u001b[39;00m http_err:\n\u001b[0;32m    562\u001b[0m     args \u001b[39m=\u001b[39m (\u001b[39mdict\u001b[39m, \u001b[39m'\u001b[39m\u001b[39mdefault\u001b[39m\u001b[39m'\u001b[39m, \u001b[39m'\u001b[39m\u001b[39mhttp_error_default\u001b[39m\u001b[39m'\u001b[39m) \u001b[39m+\u001b[39m orig_args\n\u001b[1;32m--> 563\u001b[0m     \u001b[39mreturn\u001b[39;00m \u001b[39mself\u001b[39;49m\u001b[39m.\u001b[39;49m_call_chain(\u001b[39m*\u001b[39;49margs)\n",
      "File \u001b[1;32mc:\\Users\\nikolay.zaytsev\\AppData\\Local\\Programs\\Python\\Python311\\Lib\\urllib\\request.py:496\u001b[0m, in \u001b[0;36mOpenerDirector._call_chain\u001b[1;34m(self, chain, kind, meth_name, *args)\u001b[0m\n\u001b[0;32m    494\u001b[0m \u001b[39mfor\u001b[39;00m handler \u001b[39min\u001b[39;00m handlers:\n\u001b[0;32m    495\u001b[0m     func \u001b[39m=\u001b[39m \u001b[39mgetattr\u001b[39m(handler, meth_name)\n\u001b[1;32m--> 496\u001b[0m     result \u001b[39m=\u001b[39m func(\u001b[39m*\u001b[39;49margs)\n\u001b[0;32m    497\u001b[0m     \u001b[39mif\u001b[39;00m result \u001b[39mis\u001b[39;00m \u001b[39mnot\u001b[39;00m \u001b[39mNone\u001b[39;00m:\n\u001b[0;32m    498\u001b[0m         \u001b[39mreturn\u001b[39;00m result\n",
      "File \u001b[1;32mc:\\Users\\nikolay.zaytsev\\AppData\\Local\\Programs\\Python\\Python311\\Lib\\urllib\\request.py:643\u001b[0m, in \u001b[0;36mHTTPDefaultErrorHandler.http_error_default\u001b[1;34m(self, req, fp, code, msg, hdrs)\u001b[0m\n\u001b[0;32m    642\u001b[0m \u001b[39mdef\u001b[39;00m \u001b[39mhttp_error_default\u001b[39m(\u001b[39mself\u001b[39m, req, fp, code, msg, hdrs):\n\u001b[1;32m--> 643\u001b[0m     \u001b[39mraise\u001b[39;00m HTTPError(req\u001b[39m.\u001b[39mfull_url, code, msg, hdrs, fp)\n",
      "\u001b[1;31mHTTPError\u001b[0m: HTTP Error 400: Bad Request"
     ]
    }
   ],
   "source": [
    "# Навигация по ссылкам\n",
    "# Работаем с данными за один день 2020-07-07\n",
    "url_level_0 = urllib.request.urlopen(url)\n",
    "data_level_0 = pd.DataFrame.from_dict(json.loads(url_level_0.read()))\n",
    "data_level_0"
   ]
  },
  {
   "cell_type": "code",
   "execution_count": null,
   "metadata": {},
   "outputs": [],
   "source": [
    "# Выбираем один элемент из списка за один день\n",
    "data_day = data_level_0.near_earth_objects[3]\n",
    "data_day_item = data_day[0]\n",
    "data_day_item"
   ]
  },
  {
   "cell_type": "code",
   "execution_count": null,
   "metadata": {},
   "outputs": [],
   "source": [
    "# Создаем словари с выбранными данными для DataFrame\n",
    "dict_estimated_diameter = data_day_item['estimated_diameter']['kilometers']\n",
    "dict_close_approach_data = data_day_item['close_approach_data']\n",
    "dict_relative_velocity = dict_close_approach_data[0]['relative_velocity']\n",
    "dict_miss_distance = dict_close_approach_data[0]['miss_distance']"
   ]
  },
  {
   "cell_type": "code",
   "execution_count": null,
   "metadata": {},
   "outputs": [],
   "source": [
    "# Создаем DataFrame\n",
    "# Объединяем DataFrame\n",
    "df1 = pd.DataFrame(data_day_item, index=['1'])\n",
    "df2 = pd.DataFrame(dict_estimated_diameter, index=['1'])\n",
    "df3 = pd.DataFrame(dict_close_approach_data, index=['1'])\n",
    "df4 = pd.DataFrame(dict_relative_velocity, index=['1'])\n",
    "df5 = pd.DataFrame(dict_miss_distance, index=['1'])\n",
    "df1.join(df2).join(df3).join(df4).join(df5)"
   ]
  },
  {
   "cell_type": "code",
   "execution_count": null,
   "metadata": {},
   "outputs": [],
   "source": [
    "# Чистим DataFrame от нерелевантных данных, переименовываем\n",
    "df_item = df1.join(df2).join(df3).join(df4).join(df5).drop(['links',\n",
    "                                                  'nasa_jpl_url',\n",
    "                                                  'neo_reference_id',\n",
    "                                                  'estimated_diameter',\n",
    "                                                  'close_approach_data',\n",
    "                                                  'relative_velocity',\n",
    "                                                  'miss_distance',\n",
    "                                                  'miles_per_hour',\n",
    "                                                  'astronomical',\n",
    "                                                  'lunar',\n",
    "                                                  'miles'\n",
    "                                                  ], axis=1\n",
    ").rename(columns={'kilometers': 'miss_distance_kilometers',\n",
    "                  'estimated_diameter_min': 'estimated_diameter_km_min',\n",
    "                  'estimated_diameter_max': 'estimated_diameter_km_max'})\n",
    "\n",
    "df_item"
   ]
  }
 ],
 "metadata": {
  "kernelspec": {
   "display_name": "Python 3",
   "language": "python",
   "name": "python3"
  },
  "language_info": {
   "codemirror_mode": {
    "name": "ipython",
    "version": 3
   },
   "file_extension": ".py",
   "mimetype": "text/x-python",
   "name": "python",
   "nbconvert_exporter": "python",
   "pygments_lexer": "ipython3",
   "version": "3.11.3"
  },
  "orig_nbformat": 4
 },
 "nbformat": 4,
 "nbformat_minor": 2
}
