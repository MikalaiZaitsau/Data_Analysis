{
 "cells": [
  {
   "cell_type": "code",
   "execution_count": 79,
   "metadata": {},
   "outputs": [],
   "source": [
    "import pandas as pd\n",
    "import numpy as np\n",
    "import matplotlib.pyplot as plt\n",
    "import matplotlib.image as mpimg\n",
    "import requests\n",
    "import urllib, json\n",
    "from PIL import Image\n",
    "import datetime"
   ]
  },
  {
   "cell_type": "code",
   "execution_count": 80,
   "metadata": {},
   "outputs": [],
   "source": [
    "# Подключаем api_key из файла\n",
    "f = open('API_KEY.txt', 'r')\n",
    "api_key = f.read()\n",
    "f.close()"
   ]
  },
  {
   "cell_type": "code",
   "execution_count": 81,
   "metadata": {},
   "outputs": [],
   "source": [
    "# Составляем URL request\n",
    "api_root = 'https://api.nasa.gov/'\n",
    "api_product = 'neo/rest/v1/feed?'\n",
    "start_date = '2020-07-07'\n",
    "end_date = '2020-07-07'\n",
    "url = f\"{api_root}{api_product}start_date={start_date}&end_date={end_date}&api_key={api_key}\""
   ]
  },
  {
   "cell_type": "code",
   "execution_count": 82,
   "metadata": {},
   "outputs": [],
   "source": [
    "'''\n",
    "    Функция навигации по данным из api response\n",
    "    возвращает ссылку на данные в другом временном отрезке\n",
    "\n",
    "    step = 'next' -- следующий день от заданного start_date в URL request\n",
    "    step = 'prev' -- предыдущий день от заданного start_date в URL request\n",
    "    step = 'self' -- текущий день, равный start_date в URL request\n",
    "'''\n",
    "\n",
    "def get_url(url, step):\n",
    "    url_level = urllib.request.urlopen(url)\n",
    "    data_level = json.loads(url_level.read())['links']\n",
    "    if step == 'next':\n",
    "        return data_level[step]\n",
    "    elif step == 'prev':\n",
    "        return data_level[step]\n",
    "    elif step == 'self':\n",
    "        return data_level[step]"
   ]
  },
  {
   "cell_type": "code",
   "execution_count": 83,
   "metadata": {},
   "outputs": [
    {
     "data": {
      "text/plain": [
       "\"\\n    Вариант использования бибилотеки datetime для скольжения по датам (не используется в коде)\\n    и вывод даты в строку\\n\\n    delta = datetime.timedelta(days=1)\\n    day_current = datetime.date.fromisoformat(start_date) + delta\\n    date_str = datetime.date.strftime(day_current, '%Y-%m-%d')\\n\""
      ]
     },
     "execution_count": 83,
     "metadata": {},
     "output_type": "execute_result"
    }
   ],
   "source": [
    "'''\n",
    "    Вариант использования бибилотеки datetime для скольжения по датам (не используется в коде)\n",
    "    и вывод даты в строку\n",
    "\n",
    "    delta = datetime.timedelta(days=1)\n",
    "    day_current = datetime.date.fromisoformat(start_date) + delta\n",
    "    date_str = datetime.date.strftime(day_current, '%Y-%m-%d')\n",
    "'''"
   ]
  },
  {
   "cell_type": "code",
   "execution_count": 95,
   "metadata": {},
   "outputs": [],
   "source": [
    "# Делаем список данных за n дней\n",
    "\n",
    "items_list = []\n",
    "\n",
    "# n - количество запросов(дней)\n",
    "n = 1\n",
    "\n",
    "for i in range(1, n+1):\n",
    "    current = get_url(url, 'next')\n",
    "    url = current\n",
    "    \n",
    "    # Навигация по ссылкам, работаем с данными за один день\n",
    "    url_level_0 = urllib.request.urlopen(url)\n",
    "    data_level_0 = pd.DataFrame.from_dict(json.loads(url_level_0.read()))\n",
    "    \n",
    "    # Cписок элементов за один день\n",
    "    data_days = data_level_0.near_earth_objects[3]\n",
    "\n",
    "    # Цикл по элементам списка за один день\n",
    "    for data_day_item in data_days:\n",
    "        dict_estimated_diameter = data_day_item['estimated_diameter']['kilometers']\n",
    "        dict_close_approach_data = data_day_item['close_approach_data']\n",
    "        dict_relative_velocity = dict_close_approach_data[0]['relative_velocity']\n",
    "        dict_miss_distance = dict_close_approach_data[0]['miss_distance']\n",
    "\n",
    "        df1 = pd.DataFrame(data_day_item, index=['1'])\n",
    "        df2 = pd.DataFrame(dict_estimated_diameter, index=['1'])\n",
    "        df3 = pd.DataFrame(dict_close_approach_data, index=['1'])\n",
    "        df4 = pd.DataFrame(dict_relative_velocity, index=['1'])\n",
    "        df5 = pd.DataFrame(dict_miss_distance, index=['1'])\n",
    "\n",
    "        df_item = df1.join(df2).join(df3).join(df4).join(df5).drop(['links',\n",
    "                                                        'nasa_jpl_url',\n",
    "                                                        'neo_reference_id',\n",
    "                                                        'estimated_diameter',\n",
    "                                                        'close_approach_data',\n",
    "                                                        'relative_velocity',\n",
    "                                                        'miss_distance',\n",
    "                                                        'miles_per_hour',\n",
    "                                                        'astronomical',\n",
    "                                                        'lunar',\n",
    "                                                        'miles'\n",
    "                                                        ], axis=1\n",
    "        ).rename(columns={'kilometers': 'miss_distance_kilometers',\n",
    "                        'estimated_diameter_min': 'estimated_diameter_km_min',\n",
    "                        'estimated_diameter_max': 'estimated_diameter_km_max'})\n",
    "\n",
    "        items_list.append(df_item.to_dict())"
   ]
  },
  {
   "cell_type": "code",
   "execution_count": 85,
   "metadata": {},
   "outputs": [
    {
     "data": {
      "text/html": [
       "<div>\n",
       "<style scoped>\n",
       "    .dataframe tbody tr th:only-of-type {\n",
       "        vertical-align: middle;\n",
       "    }\n",
       "\n",
       "    .dataframe tbody tr th {\n",
       "        vertical-align: top;\n",
       "    }\n",
       "\n",
       "    .dataframe thead th {\n",
       "        text-align: right;\n",
       "    }\n",
       "</style>\n",
       "<table border=\"1\" class=\"dataframe\">\n",
       "  <thead>\n",
       "    <tr style=\"text-align: right;\">\n",
       "      <th></th>\n",
       "      <th>links</th>\n",
       "      <th>element_count</th>\n",
       "      <th>near_earth_objects</th>\n",
       "    </tr>\n",
       "  </thead>\n",
       "  <tbody>\n",
       "    <tr>\n",
       "      <th>next</th>\n",
       "      <td>http://api.nasa.gov/neo/rest/v1/feed?start_dat...</td>\n",
       "      <td>15</td>\n",
       "      <td>NaN</td>\n",
       "    </tr>\n",
       "    <tr>\n",
       "      <th>prev</th>\n",
       "      <td>http://api.nasa.gov/neo/rest/v1/feed?start_dat...</td>\n",
       "      <td>15</td>\n",
       "      <td>NaN</td>\n",
       "    </tr>\n",
       "    <tr>\n",
       "      <th>self</th>\n",
       "      <td>http://api.nasa.gov/neo/rest/v1/feed?start_dat...</td>\n",
       "      <td>15</td>\n",
       "      <td>NaN</td>\n",
       "    </tr>\n",
       "    <tr>\n",
       "      <th>2020-07-08</th>\n",
       "      <td>NaN</td>\n",
       "      <td>15</td>\n",
       "      <td>[{'links': {'self': 'http://api.nasa.gov/neo/r...</td>\n",
       "    </tr>\n",
       "  </tbody>\n",
       "</table>\n",
       "</div>"
      ],
      "text/plain": [
       "                                                        links  element_count   \n",
       "next        http://api.nasa.gov/neo/rest/v1/feed?start_dat...             15  \\\n",
       "prev        http://api.nasa.gov/neo/rest/v1/feed?start_dat...             15   \n",
       "self        http://api.nasa.gov/neo/rest/v1/feed?start_dat...             15   \n",
       "2020-07-08                                                NaN             15   \n",
       "\n",
       "                                           near_earth_objects  \n",
       "next                                                      NaN  \n",
       "prev                                                      NaN  \n",
       "self                                                      NaN  \n",
       "2020-07-08  [{'links': {'self': 'http://api.nasa.gov/neo/r...  "
      ]
     },
     "execution_count": 85,
     "metadata": {},
     "output_type": "execute_result"
    }
   ],
   "source": [
    "# Навигация по ссылкам\n",
    "# Работаем с данными за один день 2020-07-07\n",
    "url_level_0 = urllib.request.urlopen(url)\n",
    "data_level_0 = pd.DataFrame.from_dict(json.loads(url_level_0.read()))\n",
    "data_level_0"
   ]
  },
  {
   "cell_type": "code",
   "execution_count": 86,
   "metadata": {},
   "outputs": [
    {
     "data": {
      "text/plain": [
       "{'links': {'self': 'http://api.nasa.gov/neo/rest/v1/neo/2242450?api_key=8Mbg6rxSagXNYxrUbC8ynidJUcLn9h4CC7ucuT21'},\n",
       " 'id': '2242450',\n",
       " 'neo_reference_id': '2242450',\n",
       " 'name': '242450 (2004 QY2)',\n",
       " 'nasa_jpl_url': 'http://ssd.jpl.nasa.gov/sbdb.cgi?sstr=2242450',\n",
       " 'absolute_magnitude_h': 14.55,\n",
       " 'estimated_diameter': {'kilometers': {'estimated_diameter_min': 3.2700543928,\n",
       "   'estimated_diameter_max': 7.3120639125},\n",
       "  'meters': {'estimated_diameter_min': 3270.0543928193,\n",
       "   'estimated_diameter_max': 7312.0639124658},\n",
       "  'miles': {'estimated_diameter_min': 2.0319169681,\n",
       "   'estimated_diameter_max': 4.5435044654},\n",
       "  'feet': {'estimated_diameter_min': 10728.5252541373,\n",
       "   'estimated_diameter_max': 23989.7117665742}},\n",
       " 'is_potentially_hazardous_asteroid': True,\n",
       " 'close_approach_data': [{'close_approach_date': '2020-07-08',\n",
       "   'close_approach_date_full': '2020-Jul-08 11:27',\n",
       "   'epoch_date_close_approach': 1594207620000,\n",
       "   'relative_velocity': {'kilometers_per_second': '26.6793702848',\n",
       "    'kilometers_per_hour': '96045.7330254319',\n",
       "    'miles_per_hour': '59679.0833901635'},\n",
       "   'miss_distance': {'astronomical': '0.1631740078',\n",
       "    'lunar': '63.4746890342',\n",
       "    'kilometers': '24410484.006243386',\n",
       "    'miles': '15167971.4132992868'},\n",
       "   'orbiting_body': 'Earth'}],\n",
       " 'is_sentry_object': False}"
      ]
     },
     "execution_count": 86,
     "metadata": {},
     "output_type": "execute_result"
    }
   ],
   "source": [
    "# Выбираем один элемент из списка за один день\n",
    "data_day = data_level_0.near_earth_objects[3]\n",
    "data_day_item = data_day[0]\n",
    "data_day_item"
   ]
  },
  {
   "cell_type": "code",
   "execution_count": 87,
   "metadata": {},
   "outputs": [],
   "source": [
    "# Создаем словари с выбранными данными для DataFrame\n",
    "dict_estimated_diameter = data_day_item['estimated_diameter']['kilometers']\n",
    "dict_close_approach_data = data_day_item['close_approach_data']\n",
    "dict_relative_velocity = dict_close_approach_data[0]['relative_velocity']\n",
    "dict_miss_distance = dict_close_approach_data[0]['miss_distance']"
   ]
  },
  {
   "cell_type": "code",
   "execution_count": 88,
   "metadata": {},
   "outputs": [
    {
     "data": {
      "text/html": [
       "<div>\n",
       "<style scoped>\n",
       "    .dataframe tbody tr th:only-of-type {\n",
       "        vertical-align: middle;\n",
       "    }\n",
       "\n",
       "    .dataframe tbody tr th {\n",
       "        vertical-align: top;\n",
       "    }\n",
       "\n",
       "    .dataframe thead th {\n",
       "        text-align: right;\n",
       "    }\n",
       "</style>\n",
       "<table border=\"1\" class=\"dataframe\">\n",
       "  <thead>\n",
       "    <tr style=\"text-align: right;\">\n",
       "      <th></th>\n",
       "      <th>links</th>\n",
       "      <th>id</th>\n",
       "      <th>neo_reference_id</th>\n",
       "      <th>name</th>\n",
       "      <th>nasa_jpl_url</th>\n",
       "      <th>absolute_magnitude_h</th>\n",
       "      <th>estimated_diameter</th>\n",
       "      <th>is_potentially_hazardous_asteroid</th>\n",
       "      <th>close_approach_data</th>\n",
       "      <th>is_sentry_object</th>\n",
       "      <th>...</th>\n",
       "      <th>relative_velocity</th>\n",
       "      <th>miss_distance</th>\n",
       "      <th>orbiting_body</th>\n",
       "      <th>kilometers_per_second</th>\n",
       "      <th>kilometers_per_hour</th>\n",
       "      <th>miles_per_hour</th>\n",
       "      <th>astronomical</th>\n",
       "      <th>lunar</th>\n",
       "      <th>kilometers</th>\n",
       "      <th>miles</th>\n",
       "    </tr>\n",
       "  </thead>\n",
       "  <tbody>\n",
       "    <tr>\n",
       "      <th>1</th>\n",
       "      <td>NaN</td>\n",
       "      <td>2242450</td>\n",
       "      <td>2242450</td>\n",
       "      <td>242450 (2004 QY2)</td>\n",
       "      <td>http://ssd.jpl.nasa.gov/sbdb.cgi?sstr=2242450</td>\n",
       "      <td>14.55</td>\n",
       "      <td>NaN</td>\n",
       "      <td>True</td>\n",
       "      <td>{'close_approach_date': '2020-07-08', 'close_a...</td>\n",
       "      <td>False</td>\n",
       "      <td>...</td>\n",
       "      <td>{'kilometers_per_second': '26.6793702848', 'ki...</td>\n",
       "      <td>{'astronomical': '0.1631740078', 'lunar': '63....</td>\n",
       "      <td>Earth</td>\n",
       "      <td>26.6793702848</td>\n",
       "      <td>96045.7330254319</td>\n",
       "      <td>59679.0833901635</td>\n",
       "      <td>0.1631740078</td>\n",
       "      <td>63.4746890342</td>\n",
       "      <td>24410484.006243386</td>\n",
       "      <td>15167971.4132992868</td>\n",
       "    </tr>\n",
       "  </tbody>\n",
       "</table>\n",
       "<p>1 rows × 25 columns</p>\n",
       "</div>"
      ],
      "text/plain": [
       "   links       id neo_reference_id               name   \n",
       "1    NaN  2242450          2242450  242450 (2004 QY2)  \\\n",
       "\n",
       "                                    nasa_jpl_url  absolute_magnitude_h   \n",
       "1  http://ssd.jpl.nasa.gov/sbdb.cgi?sstr=2242450                 14.55  \\\n",
       "\n",
       "   estimated_diameter  is_potentially_hazardous_asteroid   \n",
       "1                 NaN                               True  \\\n",
       "\n",
       "                                 close_approach_data  is_sentry_object  ...   \n",
       "1  {'close_approach_date': '2020-07-08', 'close_a...             False  ...  \\\n",
       "\n",
       "                                   relative_velocity   \n",
       "1  {'kilometers_per_second': '26.6793702848', 'ki...  \\\n",
       "\n",
       "                                       miss_distance orbiting_body   \n",
       "1  {'astronomical': '0.1631740078', 'lunar': '63....         Earth  \\\n",
       "\n",
       "  kilometers_per_second  kilometers_per_hour    miles_per_hour  astronomical   \n",
       "1         26.6793702848     96045.7330254319  59679.0833901635  0.1631740078  \\\n",
       "\n",
       "           lunar          kilometers                miles  \n",
       "1  63.4746890342  24410484.006243386  15167971.4132992868  \n",
       "\n",
       "[1 rows x 25 columns]"
      ]
     },
     "execution_count": 88,
     "metadata": {},
     "output_type": "execute_result"
    }
   ],
   "source": [
    "# Создаем DataFrame\n",
    "# Объединяем DataFrame\n",
    "df1 = pd.DataFrame(data_day_item, index=['1'])\n",
    "df2 = pd.DataFrame(dict_estimated_diameter, index=['1'])\n",
    "df3 = pd.DataFrame(dict_close_approach_data, index=['1'])\n",
    "df4 = pd.DataFrame(dict_relative_velocity, index=['1'])\n",
    "df5 = pd.DataFrame(dict_miss_distance, index=['1'])\n",
    "df1.join(df2).join(df3).join(df4).join(df5)"
   ]
  },
  {
   "cell_type": "code",
   "execution_count": 94,
   "metadata": {},
   "outputs": [
    {
     "data": {
      "text/plain": [
       "{'id': {'1': '54340316'},\n",
       " 'name': {'1': '(2023 BD7)'},\n",
       " 'absolute_magnitude_h': {'1': 25.23},\n",
       " 'is_potentially_hazardous_asteroid': {'1': False},\n",
       " 'is_sentry_object': {'1': False},\n",
       " 'estimated_diameter_km_min': {'1': 0.0239086457},\n",
       " 'estimated_diameter_km_max': {'1': 0.0534613571},\n",
       " 'close_approach_date': {'1': '2020-07-09'},\n",
       " 'close_approach_date_full': {'1': '2020-Jul-09 16:38'},\n",
       " 'epoch_date_close_approach': {'1': 1594312680000},\n",
       " 'orbiting_body': {'1': 'Earth'},\n",
       " 'kilometers_per_second': {'1': '12.5968407172'},\n",
       " 'kilometers_per_hour': {'1': '45348.6265818552'},\n",
       " 'miss_distance_kilometers': {'1': '21940006.350605802'}}"
      ]
     },
     "execution_count": 94,
     "metadata": {},
     "output_type": "execute_result"
    }
   ],
   "source": [
    "# Чистим DataFrame от нерелевантных данных, переименовываем\n",
    "df_item = df1.join(df2).join(df3).join(df4).join(df5).drop(['links',\n",
    "                                                  'nasa_jpl_url',\n",
    "                                                  'neo_reference_id',\n",
    "                                                  'estimated_diameter',\n",
    "                                                  'close_approach_data',\n",
    "                                                  'relative_velocity',\n",
    "                                                  'miss_distance',\n",
    "                                                  'miles_per_hour',\n",
    "                                                  'astronomical',\n",
    "                                                  'lunar',\n",
    "                                                  'miles'\n",
    "                                                  ], axis=1\n",
    ").rename(columns={'kilometers': 'miss_distance_kilometers',\n",
    "                  'estimated_diameter_min': 'estimated_diameter_km_min',\n",
    "                  'estimated_diameter_max': 'estimated_diameter_km_max'})\n",
    "df_item.to_dict()"
   ]
  }
 ],
 "metadata": {
  "kernelspec": {
   "display_name": "Python 3",
   "language": "python",
   "name": "python3"
  },
  "language_info": {
   "codemirror_mode": {
    "name": "ipython",
    "version": 3
   },
   "file_extension": ".py",
   "mimetype": "text/x-python",
   "name": "python",
   "nbconvert_exporter": "python",
   "pygments_lexer": "ipython3",
   "version": "3.11.3"
  },
  "orig_nbformat": 4
 },
 "nbformat": 4,
 "nbformat_minor": 2
}
